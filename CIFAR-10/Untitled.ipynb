{
 "cells": [
  {
   "cell_type": "code",
   "execution_count": 44,
   "metadata": {},
   "outputs": [],
   "source": [
    "import sys\n",
    "import os\n",
    "import pickle\n",
    "import numpy as np\n",
    "import cv2\n",
    "from matplotlib import pyplot as plt\n",
    "\n",
    "%matplotlib inline"
   ]
  },
  {
   "cell_type": "code",
   "execution_count": 45,
   "metadata": {},
   "outputs": [],
   "source": [
    "def unpickle(file):\n",
    "    fp = open(file, 'rb')\n",
    "    if sys.version_info.major == 2:\n",
    "        data = pickle.load(fp)\n",
    "    elif sys.version_info.major == 3:\n",
    "        data = pickle.load(fp, encoding='latin-1')\n",
    "    fp.close()\n",
    "    return data"
   ]
  },
  {
   "cell_type": "code",
   "execution_count": 46,
   "metadata": {},
   "outputs": [],
   "source": [
    "def load_labels():\n",
    "    fp = open(r\"D:\\Dataset\\CIFAR-10\\cifar-10-batches-py\\batches.meta\", 'rb')\n",
    "    meta = pickle.load(fp)\n",
    "    return meta['label_names']"
   ]
  },
  {
   "cell_type": "code",
   "execution_count": 47,
   "metadata": {},
   "outputs": [],
   "source": [
    "labels = load_labels()\n",
    "for l in range(len(labels)):\n",
    "    if not os.path.exists(labels[l]):\n",
    "        os.mkdir(labels[l])"
   ]
  },
  {
   "cell_type": "code",
   "execution_count": 48,
   "metadata": {},
   "outputs": [],
   "source": [
    "for n in range(5):\n",
    "    data_dic = unpickle(r\"D:\\Dataset\\CIFAR-10\\cifar-10-batches-py\\data_batch_{}\".format(n+1))\n",
    "    len_data = len(data_dic['data'])\n",
    "    for i in range(len_data):\n",
    "        img = np.moveaxis(data_dic['data'][i].reshape((3,32,32)), 0, 2)\n",
    "        label = labels[data_dic['labels'][i]]\n",
    "        cv2.imwrite(\"{}\\{}{:05}.png\".format(label, n+1, i), cv2.cvtColor(img, cv2.COLOR_RGB2BGR))"
   ]
  },
  {
   "cell_type": "code",
   "execution_count": 51,
   "metadata": {},
   "outputs": [],
   "source": [
    "if not os.path.exists(\"test\"):\n",
    "    os.mkdir(\"test\")\n",
    "        \n",
    "test_dic = unpickle(r\"D:\\Dataset\\CIFAR-10\\cifar-10-batches-py\\test_batch\")\n",
    "len_test = len(test_dic['data'])\n",
    "for i in range(len_test):\n",
    "    img = np.moveaxis(test_dic['data'][i].reshape((3,32,32)), 0, 2)\n",
    "    label = labels[test_dic['labels'][i]]\n",
    "    cv2.imwrite(\"test\\{:05}_{}.png\".format(i, label), cv2.cvtColor(img, cv2.COLOR_RGB2BGR))"
   ]
  },
  {
   "cell_type": "code",
   "execution_count": null,
   "metadata": {},
   "outputs": [],
   "source": []
  }
 ],
 "metadata": {
  "kernelspec": {
   "display_name": "Python 3",
   "language": "python",
   "name": "python3"
  },
  "language_info": {
   "codemirror_mode": {
    "name": "ipython",
    "version": 3
   },
   "file_extension": ".py",
   "mimetype": "text/x-python",
   "name": "python",
   "nbconvert_exporter": "python",
   "pygments_lexer": "ipython3",
   "version": "3.6.6"
  }
 },
 "nbformat": 4,
 "nbformat_minor": 2
}
